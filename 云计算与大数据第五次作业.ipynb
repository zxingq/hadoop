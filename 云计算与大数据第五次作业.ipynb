{
 "cells": [
  {
   "cell_type": "code",
   "execution_count": 1,
   "id": "4ff6dd6a",
   "metadata": {},
   "outputs": [],
   "source": [
    "import matplotlib"
   ]
  },
  {
   "cell_type": "code",
   "execution_count": 2,
   "id": "7d6e0595",
   "metadata": {},
   "outputs": [
    {
     "name": "stdout",
     "output_type": "stream",
     "text": [
      "module://matplotlib_inline.backend_inline\n"
     ]
    }
   ],
   "source": [
    "print(matplotlib.get_backend())"
   ]
  },
  {
   "cell_type": "code",
   "execution_count": 3,
   "id": "98d62d1e",
   "metadata": {},
   "outputs": [],
   "source": [
    "from matplotlib import pyplot as plt"
   ]
  },
  {
   "cell_type": "code",
   "execution_count": 4,
   "id": "1dc15ad2",
   "metadata": {},
   "outputs": [],
   "source": [
    "from datascience import *"
   ]
  },
  {
   "cell_type": "code",
   "execution_count": 5,
   "id": "5b6b8960",
   "metadata": {},
   "outputs": [],
   "source": [
    "scores=[]\n",
    "# plt.figure(figsize=(20,10),dpi=80)\n",
    "for i in range(5,11):\n",
    "    if(i==9):\n",
    "        score=Table.read_table('20211109-1-utf-8.csv')\n",
    "        score1=Table.read_table('20211109-utf-8.csv')\n",
    "        scores.append(score)\n",
    "        scores.append(score1)\n",
    "    elif(i!=10):\n",
    "        score = Table.read_table('2021110' + str(i) + '-utf-8.csv')\n",
    "        scores.append(score)\n",
    "    else:\n",
    "        score = Table.read_table('20211110-utf-8.csv')\n",
    "        scores.append(score)\n",
    "\n",
    "\n",
    "id=range(5,12)\n",
    "huang_scores=[]\n",
    "huang_sort=[]\n",
    "li_scores=[]\n",
    "li_sort=[]\n",
    "for i in scores:\n",
    "    work_select=i.select('姓名','总分','班名次').sort(\"总分\",descending=\"True\")\n",
    "    huang=work_select.where('姓名',are.containing('黄思哲'))\n",
    "    li=work_select.where('姓名',are.containing('李奇瀚'))\n",
    "    huang_scores.append(int(huang[1]))#将数组类型的数据强制转换为int\n",
    "    li_scores.append(int(li[1]))\n",
    "    huang_sort.append(int(huang[2]))\n",
    "    li_sort.append(int(li[2]))"
   ]
  },
  {
   "cell_type": "code",
   "execution_count": 6,
   "id": "3496d8e4",
   "metadata": {},
   "outputs": [],
   "source": [
    "students=Table().with_columns(\"考试序号\",id,\"黄思哲\",huang_scores,\"李奇瀚\",li_scores)\n",
    "#设置图片的大小"
   ]
  },
  {
   "cell_type": "code",
   "execution_count": 7,
   "id": "f4e3a43b",
   "metadata": {},
   "outputs": [
    {
     "data": {
      "text/html": [
       "<table border=\"1\" class=\"dataframe\">\n",
       "    <thead>\n",
       "        <tr>\n",
       "            <th>考试序号</th> <th>黄思哲</th> <th>李奇瀚</th>\n",
       "        </tr>\n",
       "    </thead>\n",
       "    <tbody>\n",
       "        <tr>\n",
       "            <td>5   </td> <td>408 </td> <td>409 </td>\n",
       "        </tr>\n",
       "        <tr>\n",
       "            <td>6   </td> <td>424 </td> <td>421 </td>\n",
       "        </tr>\n",
       "        <tr>\n",
       "            <td>7   </td> <td>407 </td> <td>407 </td>\n",
       "        </tr>\n",
       "        <tr>\n",
       "            <td>8   </td> <td>414 </td> <td>450 </td>\n",
       "        </tr>\n",
       "        <tr>\n",
       "            <td>9   </td> <td>268 </td> <td>354 </td>\n",
       "        </tr>\n",
       "        <tr>\n",
       "            <td>10  </td> <td>405 </td> <td>462 </td>\n",
       "        </tr>\n",
       "        <tr>\n",
       "            <td>11  </td> <td>383 </td> <td>462 </td>\n",
       "        </tr>\n",
       "    </tbody>\n",
       "</table>"
      ],
      "text/plain": [
       "考试序号 | 黄思哲  | 李奇瀚\n",
       "5    | 408  | 409\n",
       "6    | 424  | 421\n",
       "7    | 407  | 407\n",
       "8    | 414  | 450\n",
       "9    | 268  | 354\n",
       "10   | 405  | 462\n",
       "11   | 383  | 462"
      ]
     },
     "execution_count": 7,
     "metadata": {},
     "output_type": "execute_result"
    }
   ],
   "source": [
    "students"
   ]
  },
  {
   "cell_type": "code",
   "execution_count": 8,
   "id": "b51da2e5",
   "metadata": {},
   "outputs": [],
   "source": [
    "matplotlib.use('TkAgg')"
   ]
  },
  {
   "cell_type": "code",
   "execution_count": 11,
   "id": "e82d7e2e",
   "metadata": {},
   "outputs": [],
   "source": [
    "\n",
    "#设置x的刻度\n",
    "#让刻度显示的更加密集\n",
    "plt.rcParams['font.family'] = ['Fangsong']\n",
    "plt_x=[i for i in range(5,12)]\n",
    "plt.xticks(plt_x)\n",
    "plt.title(\"黄思哲和李奇哲各次考试总分对比\")\n",
    "plt.xlabel(\"考试\")\n",
    "plt.ylabel(\"总分\")\n",
    "plt.plot(id,huang_scores,label=\"黄思哲\",color=\"orange\",linewidth=3.0)\n",
    "plt.plot(id,li_scores,label=\"李奇瀚\",color=\"green\",linewidth=3.0)\n",
    "plt.legend(loc=\"upper right\")\n",
    "plt.show()"
   ]
  },
  {
   "cell_type": "code",
   "execution_count": 10,
   "id": "94a302cc",
   "metadata": {},
   "outputs": [],
   "source": [
    "plt.rcParams['font.family'] = ['Fangsong']\n",
    "plt_x=[i for i in range(5,12)]\n",
    "plt.xticks(plt_x)\n",
    "plt.title(\"黄思哲和李奇哲排名对比\")\n",
    "plt.xlabel(\"考试\")\n",
    "plt.ylabel(\"排名\")\n",
    "plt.plot(id,huang_scores,label=\"黄思哲\",color=\"orange\",linewidth=3.0)\n",
    "plt.plot(id,li_scores,label=\"李奇瀚\",color=\"green\",linewidth=3.0)\n",
    "plt.legend(loc=\"upper right\")\n",
    "plt.show()"
   ]
  },
  {
   "cell_type": "code",
   "execution_count": null,
   "id": "8f01827e",
   "metadata": {},
   "outputs": [],
   "source": []
  }
 ],
 "metadata": {
  "kernelspec": {
   "display_name": "Python 3 (ipykernel)",
   "language": "python",
   "name": "python3"
  },
  "language_info": {
   "codemirror_mode": {
    "name": "ipython",
    "version": 3
   },
   "file_extension": ".py",
   "mimetype": "text/x-python",
   "name": "python",
   "nbconvert_exporter": "python",
   "pygments_lexer": "ipython3",
   "version": "3.9.7"
  }
 },
 "nbformat": 4,
 "nbformat_minor": 5
}
