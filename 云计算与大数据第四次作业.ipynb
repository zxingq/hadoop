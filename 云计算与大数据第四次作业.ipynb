{
 "cells": [
  {
   "cell_type": "code",
   "execution_count": 1,
   "id": "b4bb33f9",
   "metadata": {},
   "outputs": [
    {
     "name": "stdout",
     "output_type": "stream",
     "text": [
      "请输入要查询学生的名字:朱兴奇\n"
     ]
    }
   ],
   "source": [
    "#coding:gbk\n",
    "import datascience\n",
    "from datascience import *\n",
    "data1 = Table.read_table('D:/python/data/hadoop.csv')\n",
    "data2 = Table.read_table('D:/python/data/hive.csv')\n",
    "data3 = Table.read_table('D:/python/data/spark.csv')\n",
    "data4 = Table.read_table('/python/data/高数监考表.csv')\n",
    "data_all=[data1,data2,data3,data4]\n",
    "subjects=[]\n",
    "dates=[]\n",
    "times=[]\n",
    "classrooms=[]\n",
    "name=input(\"请输入要查询学生的名字:\")\n",
    "for i in data_all:\n",
    "    temp = i.where(\"学号\", name)\n",
    "    subject = temp[5]\n",
    "    date = temp[2]\n",
    "    time = temp[3]\n",
    "    classroom = temp[4]\n",
    "    subjects.append(subject)\n",
    "    dates.append(date)\n",
    "    times.append(time)\n",
    "    classrooms.append(classroom)\n",
    "\n",
    "students=Table().with_columns(\"科目\",subjects,\"日期\",dates,\"时间\",times,\"教室\",classrooms)"
   ]
  },
  {
   "cell_type": "code",
   "execution_count": 2,
   "id": "df621c15",
   "metadata": {},
   "outputs": [
    {
     "data": {
      "text/html": [
       "<table border=\"1\" class=\"dataframe\">\n",
       "    <thead>\n",
       "        <tr>\n",
       "            <th>科目</th> <th>日期</th> <th>时间</th> <th>教室</th>\n",
       "        </tr>\n",
       "    </thead>\n",
       "    <tbody>\n",
       "        <tr>\n",
       "            <td>['hadoop']</td> <td>['2022/11/14']</td> <td>['14:30-16:30']</td> <td>['理一A312']</td>\n",
       "        </tr>\n",
       "        <tr>\n",
       "            <td>[]        </td> <td>[]            </td> <td>[]             </td> <td>[]        </td>\n",
       "        </tr>\n",
       "        <tr>\n",
       "            <td>[]        </td> <td>[]            </td> <td>[]             </td> <td>[]        </td>\n",
       "        </tr>\n",
       "        <tr>\n",
       "            <td>['高数']    </td> <td>['2022/11/14']</td> <td>['8:30-10:30'] </td> <td>['理一B312']</td>\n",
       "        </tr>\n",
       "    </tbody>\n",
       "</table>"
      ],
      "text/plain": [
       "科目         | 日期             | 时间              | 教室\n",
       "['hadoop'] | ['2022/11/14'] | ['14:30-16:30'] | ['理一A312']\n",
       "[]         | []             | []              | []\n",
       "[]         | []             | []              | []\n",
       "['高数']     | ['2022/11/14'] | ['8:30-10:30']  | ['理一B312']"
      ]
     },
     "execution_count": 2,
     "metadata": {},
     "output_type": "execute_result"
    }
   ],
   "source": [
    "students"
   ]
  },
  {
   "cell_type": "code",
   "execution_count": null,
   "id": "8ce8924f",
   "metadata": {},
   "outputs": [],
   "source": []
  }
 ],
 "metadata": {
  "kernelspec": {
   "display_name": "Python 3 (ipykernel)",
   "language": "python",
   "name": "python3"
  },
  "language_info": {
   "codemirror_mode": {
    "name": "ipython",
    "version": 3
   },
   "file_extension": ".py",
   "mimetype": "text/x-python",
   "name": "python",
   "nbconvert_exporter": "python",
   "pygments_lexer": "ipython3",
   "version": "3.9.7"
  }
 },
 "nbformat": 4,
 "nbformat_minor": 5
}
